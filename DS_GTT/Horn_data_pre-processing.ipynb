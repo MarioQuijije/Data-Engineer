{
 "cells": [
  {
   "cell_type": "code",
   "execution_count": 1,
   "metadata": {},
   "outputs": [
    {
     "name": "stderr",
     "output_type": "stream",
     "text": [
      "C:\\Anaconda3\\lib\\site-packages\\numpy\\_distributor_init.py:32: UserWarning: loaded more than 1 DLL from .libs:\n",
      "C:\\Anaconda3\\lib\\site-packages\\numpy\\.libs\\libopenblas.TXA6YQSD3GCQQC22GEQ54J2UDCXDXHWN.gfortran-win_amd64.dll\n",
      "C:\\Anaconda3\\lib\\site-packages\\numpy\\.libs\\libopenblas.XWYDX2IKJW2NMTWSFYNGFUWKQU3LYTCZ.gfortran-win_amd64.dll\n",
      "  stacklevel=1)\n"
     ]
    }
   ],
   "source": [
    "import os\n",
    "import pandas as pd\n",
    "import numpy as np\n",
    "import matplotlib.pyplot as plt\n",
    "import seaborn as sns"
   ]
  },
  {
   "cell_type": "code",
   "execution_count": 2,
   "metadata": {},
   "outputs": [],
   "source": [
    "import warnings\n",
    "warnings.simplefilter(\"ignore\")"
   ]
  },
  {
   "cell_type": "code",
   "execution_count": 6,
   "metadata": {},
   "outputs": [],
   "source": [
    "df = pd.read_excel(\"C:/Users/A405179/Desktop/Time series forecasting/Details_Table_new_updated.xlsx\")"
   ]
  },
  {
   "cell_type": "code",
   "execution_count": 7,
   "metadata": {},
   "outputs": [
    {
     "data": {
      "text/plain": [
       "Index(['PART_NO', 'PART_NAME', 'CLAIM_CATEGORY', 'COM_FIELD1', 'COM_FIELD2',\n",
       "       'COM_FIELD3', 'BUSINESS_UNIT', 'CASE_NO', 'MAIN_OP',\n",
       "       'CLAIM_HANDLING_DECISION', 'CLAIM_REG_DATE', 'CLAIM_STATUS_DETAIL',\n",
       "       'DES_AREA', 'FGRP4', 'JOB_NO', 'REP_DATE', 'REPAIR_ID', 'REP_ORDER_NO',\n",
       "       'REP_BA_ORGAN', 'REP_CNTRY', 'REP_DEALER', 'REP_REGION',\n",
       "       'TOT_CLAIM_PAYMENT_SEK', 'VEH_AGE_CLAIM', 'MILEAGE_KM_CLAIM',\n",
       "       'CHASSIS_ID', 'CHASSIS_NO', 'CHASSIS_SERIES', 'CHASSIS_TYPE',\n",
       "       'CUST_NAME', 'DEL_CNTRY', 'DEL_DEALER', 'ENGINE_ASSEMB_DATE',\n",
       "       'ENGINE_FAMILY', 'ENGINE_HP', 'ENGINE_MK', 'INS_DATE',\n",
       "       'LAST_KNOWN_MILEAGE_KM', 'LAST_KNOWN_REP_DATE', 'PRODUCT_ID_CHAR',\n",
       "       'PRODUCT_TIS_BIN', 'VEH_ASSEMB_DATE', 'VEH_ASSEMB_MONTH', 'VEH_MODEL',\n",
       "       'VEH_TYPE', 'VIN'],\n",
       "      dtype='object')"
      ]
     },
     "execution_count": 7,
     "metadata": {},
     "output_type": "execute_result"
    }
   ],
   "source": [
    "df.columns"
   ]
  },
  {
   "cell_type": "code",
   "execution_count": 8,
   "metadata": {},
   "outputs": [],
   "source": [
    "claims = df['CHASSIS_NO'].groupby([df[\"REP_DATE\"].dt.year, df[\"REP_DATE\"].dt.month]).agg('count').values"
   ]
  },
  {
   "cell_type": "code",
   "execution_count": 9,
   "metadata": {},
   "outputs": [
    {
     "data": {
      "text/plain": [
       "array([  4,   6,   9,  11,  38, 122, 104, 121,  89,  74,  71,  77,  92,\n",
       "        88,  78,  79,  76,  77,  83,  84, 105, 104,  87, 101, 144, 111,\n",
       "       116, 128, 148, 127, 162, 120, 112, 115, 109, 122, 102, 108, 102,\n",
       "       133, 157, 132, 160, 169, 206, 213, 222, 270, 290, 376, 361, 397,\n",
       "       436, 396, 420, 402, 413, 333, 324, 410, 383, 450, 404, 430, 353,\n",
       "       354, 330, 305, 328, 282, 260, 302, 299, 279, 257, 276, 308, 321,\n",
       "       304, 305, 340, 308, 284, 320, 296, 296, 268, 267, 258, 219, 233,\n",
       "       224, 227, 214, 238, 212, 175,  96], dtype=int64)"
      ]
     },
     "execution_count": 9,
     "metadata": {},
     "output_type": "execute_result"
    }
   ],
   "source": [
    "claims"
   ]
  },
  {
   "cell_type": "code",
   "execution_count": 10,
   "metadata": {},
   "outputs": [
    {
     "data": {
      "text/plain": [
       "98"
      ]
     },
     "execution_count": 10,
     "metadata": {},
     "output_type": "execute_result"
    }
   ],
   "source": [
    "len(claims)"
   ]
  },
  {
   "cell_type": "code",
   "execution_count": 11,
   "metadata": {},
   "outputs": [],
   "source": [
    "dates = pd.date_range(start=\"2014-01-01\",end=\"2022-02-01\",freq='MS')"
   ]
  },
  {
   "cell_type": "code",
   "execution_count": 12,
   "metadata": {},
   "outputs": [],
   "source": [
    "claims_df = pd.DataFrame({\"Claim date\":dates,\"No. of Claims\":claims})"
   ]
  },
  {
   "cell_type": "code",
   "execution_count": 13,
   "metadata": {},
   "outputs": [
    {
     "data": {
      "text/html": [
       "<div>\n",
       "<style scoped>\n",
       "    .dataframe tbody tr th:only-of-type {\n",
       "        vertical-align: middle;\n",
       "    }\n",
       "\n",
       "    .dataframe tbody tr th {\n",
       "        vertical-align: top;\n",
       "    }\n",
       "\n",
       "    .dataframe thead th {\n",
       "        text-align: right;\n",
       "    }\n",
       "</style>\n",
       "<table border=\"1\" class=\"dataframe\">\n",
       "  <thead>\n",
       "    <tr style=\"text-align: right;\">\n",
       "      <th></th>\n",
       "      <th>Claim date</th>\n",
       "      <th>No. of Claims</th>\n",
       "    </tr>\n",
       "  </thead>\n",
       "  <tbody>\n",
       "    <tr>\n",
       "      <th>0</th>\n",
       "      <td>2014-01-01</td>\n",
       "      <td>4</td>\n",
       "    </tr>\n",
       "    <tr>\n",
       "      <th>1</th>\n",
       "      <td>2014-02-01</td>\n",
       "      <td>6</td>\n",
       "    </tr>\n",
       "    <tr>\n",
       "      <th>2</th>\n",
       "      <td>2014-03-01</td>\n",
       "      <td>9</td>\n",
       "    </tr>\n",
       "    <tr>\n",
       "      <th>3</th>\n",
       "      <td>2014-04-01</td>\n",
       "      <td>11</td>\n",
       "    </tr>\n",
       "    <tr>\n",
       "      <th>4</th>\n",
       "      <td>2014-05-01</td>\n",
       "      <td>38</td>\n",
       "    </tr>\n",
       "  </tbody>\n",
       "</table>\n",
       "</div>"
      ],
      "text/plain": [
       "  Claim date  No. of Claims\n",
       "0 2014-01-01              4\n",
       "1 2014-02-01              6\n",
       "2 2014-03-01              9\n",
       "3 2014-04-01             11\n",
       "4 2014-05-01             38"
      ]
     },
     "execution_count": 13,
     "metadata": {},
     "output_type": "execute_result"
    }
   ],
   "source": [
    "claims_df.head()"
   ]
  },
  {
   "cell_type": "code",
   "execution_count": 14,
   "metadata": {},
   "outputs": [],
   "source": [
    "claims_df.to_csv(\"C:/Users/A405179/Desktop/Time series forecasting/Updated_data_new_new.csv\")"
   ]
  },
  {
   "cell_type": "code",
   "execution_count": null,
   "metadata": {},
   "outputs": [],
   "source": []
  }
 ],
 "metadata": {
  "kernelspec": {
   "display_name": "Python 3",
   "language": "python",
   "name": "python3"
  },
  "language_info": {
   "codemirror_mode": {
    "name": "ipython",
    "version": 3
   },
   "file_extension": ".py",
   "mimetype": "text/x-python",
   "name": "python",
   "nbconvert_exporter": "python",
   "pygments_lexer": "ipython3",
   "version": "3.7.4"
  }
 },
 "nbformat": 4,
 "nbformat_minor": 2
}
